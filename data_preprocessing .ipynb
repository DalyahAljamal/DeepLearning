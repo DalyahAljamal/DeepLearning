{
 "cells": [
  {
   "cell_type": "markdown",
   "metadata": {},
   "source": [
    "## Data Preprrocessing\n",
    "Author: Dalyah Aljamal, April 21, 2018\n",
    "#This file read data (Training (X,Y) , testing(X,Y))\n",
    "#Perform MiniBatching\n",
    "#Image preprocessing: \n",
    "1. Segmentation (not complete)\n",
    "2. Resizing\n",
    "3. Normalization (not complete)\n",
    "\n",
    "\n",
    "#Dp preprossing for all data once and Save all the data in a folder (ready_data) (notcomplete)"
   ]
  },
  {
   "cell_type": "code",
   "execution_count": 47,
   "metadata": {},
   "outputs": [],
   "source": [
    "using Plots\n",
    "using Knet;\n",
    "using Compat,GZip \n",
    "using Images\n",
    "using Colors\n",
    "using Images\n",
    "using ImageSegmentation\n"
   ]
  },
  {
   "cell_type": "code",
   "execution_count": 48,
   "metadata": {},
   "outputs": [
    {
     "data": {
      "text/plain": [
       "seg_image (generic function with 1 method)"
      ]
     },
     "execution_count": 48,
     "metadata": {},
     "output_type": "execute_result"
    }
   ],
   "source": [
    "function seg_image(img, xDim, yDim)\n",
    "    \n",
    "    println(typeof(img))\n",
    "    segments = felzenszwalb(img, 300, 100); # k=300 (the merging threshold), min_size = 100 (smallest number of pixels/region)\n",
    "\n",
    "    seg_img=Any[]\n",
    "    ymax=0;\n",
    "    ymin=500000;\n",
    "    xmax=0;\n",
    "    xmin=500000;\n",
    "    \n",
    "    for i in 1:xDim\n",
    "        seg_cols=Any[]\n",
    "        for j in 1:yDim\n",
    "            hand_i=2# for all training images\n",
    "            if labels_map(segments)[i,j] == hand_i\n",
    "            #push!(seg_cols,img[i,j])\n",
    "                if i > xmax\n",
    "                    xmax=i;\n",
    "                end\n",
    "                if i< min\n",
    "                    xmin=i;\n",
    "                end\n",
    "                if j > xmax\n",
    "                    ymax=j;\n",
    "                end\n",
    "                if j< min\n",
    "                    ymin=j;\n",
    "                end\n",
    "                \n",
    "            end\n",
    "        end\n",
    "            #push!(seg_img,seg_cols)\n",
    "    end\n",
    "    #filter(x->x%2==0,[1,2,3,5])\n",
    "    seg_img= filter(i,j->labels_map(segments)[i,j] == 2, img)\n",
    "    return seg_img\n",
    "    #This function works fine, but produces Array{Any,1} img while I need it in 2d format\n",
    "   \n",
    "end\n",
    "   "
   ]
  },
  {
   "cell_type": "code",
   "execution_count": 20,
   "metadata": {},
   "outputs": [
    {
     "data": {
      "text/plain": [
       "read_labels (generic function with 1 method)"
      ]
     },
     "execution_count": 20,
     "metadata": {},
     "output_type": "execute_result"
    }
   ],
   "source": [
    "#Reading Training and Testing img labels\n",
    "\n",
    "#HOW THE DATA IS ORGANIZED\n",
    "\n",
    "#Each line is corresponding to one image.\n",
    "#Each line has 16x3 numbers, which indicates (x, y, z) of 16 joint locations. Note that these are joint CENTRE locations.\n",
    "#Note that (x, y) are in pixels and z is in mm.\n",
    "#The order of 16 joints is Palm, Thumb root, Thumb mid, Thumb tip,\n",
    "#Index root, Index mid, Index tip, Middle root, Middle mid, Middle tip, Ring root,\n",
    "#Ring mid, Ring tip, Pinky root, Pinky mid, Pinky tip.\n",
    "\n",
    "function read_labels(label_path)\n",
    "    labels=Any[]\n",
    "    open(label_path) do f\n",
    "         # loop through lines in file (images)\n",
    "            #loop through all words in a line (joint locations)\n",
    "                #skip first word\n",
    "                #stack all joint locations on top of each other\n",
    "                #return imgjoints vector(48,1) or (49, 1) as first element is the name of img\n",
    "            #horizantally concatanate imgjoints into labels matrix (48, #lines)\n",
    "        for ln in eachline(f)\n",
    "            if(ln==\"\")\n",
    "                continue;\n",
    "            end\n",
    "            img_joints= Array{Float32}(48)\n",
    "            word= split(ln)\n",
    "            for i in 2:49\n",
    "                w=parse(Float32, word[i])\n",
    "                img_joints[i-1] = w\n",
    "            end\n",
    "            if length(labels) ==0\n",
    "                labels=img_joints\n",
    "            else\n",
    "                labels= hcat(labels, img_joints)\n",
    "            end\n",
    "        end\n",
    "        \n",
    "    end\n",
    "    return labels\n",
    "end\n",
    "\n"
   ]
  },
  {
   "cell_type": "code",
   "execution_count": null,
   "metadata": {},
   "outputs": [],
   "source": [
    "#Extracting Data Zip Folders\n",
    "using InfoZIP\n",
    "using ZipFile\n",
    "#Since Training file was corupted\n",
    "#$ zip -FFv Training.zip --out fixed.zip\n",
    "#InfoZIP.unzip(\"fixed.zip\", \"Data/\")\n",
    "#InfoZIP.unzip(\"Training.zip\", \"Data/\")\n",
    "#InfoZIP.unzip(\"Testing.zip\", \"Data/\")\n",
    "\n",
    "#They are already extracted on my AWS image: HandPosE_Dalyah_v6"
   ]
  },
  {
   "cell_type": "code",
   "execution_count": 42,
   "metadata": {},
   "outputs": [
    {
     "data": {
      "text/plain": [
       "read_img (generic function with 2 methods)"
      ]
     },
     "execution_count": 42,
     "metadata": {},
     "output_type": "execute_result"
    }
   ],
   "source": [
    "## read images function\n",
    "function read_img(rootpath, arr1,arr2, Atype)\n",
    "images = Any[]\n",
    "c=0;\n",
    "for i =1:length(arr1)\n",
    "    for j=1:length(arr2)\n",
    "        \n",
    "        path2 = string(rootpath,\"/\",arr1[i],\"/\",arr2[j])\n",
    "        x =readdir(path2) #save all img names in arr1[i]/arr2[j] in x var\n",
    "        for k=1:length(x)\n",
    "            c=c+1;\n",
    "            path3 = string(path2,\"/\",x[k])\n",
    "            img = load(path3)\n",
    "            #Transfer to gray scale\n",
    "            img2=Float64.(Gray.(img))\n",
    "            #imshow(img)\n",
    "            #imshow(img2)\n",
    "            #println(typeof(img))\n",
    "            #println(size(img2))\n",
    "            \n",
    "            #Resize img to (128,128)\n",
    "            sz=(128,128)\n",
    "            σ = map((o,n)->0.75*o/n, size(img), sz)\n",
    "            kern = KernelFactors.gaussian(σ)   # from ImageFiltering\n",
    "            img3 = imresize(imfilter(img, kern, NA()), sz)\n",
    "            img4=reshape(img3,(128,128,1,1))\n",
    "            img5= convert(Array{Float32},img4)\n",
    "            println(summary(img5))\n",
    "            #img5= convert(Atype,img5)\n",
    "            push!(images,img5)\n",
    "        end\n",
    "    end\n",
    "end\n",
    "    images=cat(4,images...)\n",
    "    #images2=convert(Atype, images)\n",
    "    return images\n",
    "end\n"
   ]
  },
  {
   "cell_type": "code",
   "execution_count": 39,
   "metadata": {},
   "outputs": [
    {
     "data": {
      "text/plain": [
       "read_tst_img (generic function with 1 method)"
      ]
     },
     "execution_count": 39,
     "metadata": {},
     "output_type": "execute_result"
    }
   ],
   "source": [
    "function read_tst_img(rootpath, arr1, Atype)\n",
    "images = Any[]\n",
    "for i =1:length(arr1)\n",
    "        path2 = string(rootpath,\"/\",arr1[i])\n",
    "        x =readdir(path2) #save all img names in arr1[i]/arr2[j] in x var\n",
    "        for k=1:length(x)\n",
    "            path3 = string(path2,\"/\",x[k])\n",
    "            img = load(path3)\n",
    "            \n",
    "            #Transfer to gray scale\n",
    "            img2=Float64.(Gray.(img))\n",
    "            #imshow(img)\n",
    "            #imshow(img2)\n",
    "            println(typeof(img))\n",
    "            println(size(img2))\n",
    "            #Resize img to (128,128)\n",
    "            sz=(128,128)\n",
    "            σ = map((o,n)->0.75*o/n, size(img), sz)\n",
    "            kern = KernelFactors.gaussian(σ)   # from ImageFiltering\n",
    "            img3 = imresize(imfilter(img, kern, NA()), sz)\n",
    "            img4=reshape(img3,(128,128,1,1))\n",
    "            img5= convert(Array{Float32},img4)\n",
    "            println(summary(img5))\n",
    "            #img5= convert(Atype,img5)\n",
    "            push!(images,img5)\n",
    "        \n",
    "    end\n",
    "end\n",
    "    images=cat(4,images...)\n",
    "    #images2=convert(Atype, images)\n",
    "    return images\n",
    "end\n"
   ]
  },
  {
   "cell_type": "code",
   "execution_count": 44,
   "metadata": {},
   "outputs": [
    {
     "data": {
      "text/plain": [
       "dataset_minibatching (generic function with 1 method)"
      ]
     },
     "execution_count": 44,
     "metadata": {},
     "output_type": "execute_result"
    }
   ],
   "source": [
    "#Mini Batching\n",
    "\n",
    "\n",
    "function dataset_minibatching(BS, data, labels, Atype)\n",
    "    all_minibatches=Any[]\n",
    "    for i in 1:BS:size(data,4)\n",
    "        b1 = min(i+BS-1, size(data, 4))\n",
    "        batch=data[:,:,:,i:b1]\n",
    "        batch=convert(Atype, batch)\n",
    "        lab= convert(Atype, labels[:,i:b1])\n",
    "        push!(all_minibatches, (batch, lab))\n",
    "    end\n",
    "    \n",
    "    return  all_minibatches #u can acess single batch by all_minibatches[i]\n",
    "end\n",
    "\n"
   ]
  },
  {
   "cell_type": "markdown",
   "metadata": {},
   "source": [
    "## Preparing all Data"
   ]
  },
  {
   "cell_type": "code",
   "execution_count": 51,
   "metadata": {},
   "outputs": [],
   "source": [
    "#TRY IF SegmentationFUN WORKS\n",
    "#img= load(\"imgDraft/Training/1/123/image_0000.png\")\n",
    "#xDim=240\n",
    "#yDim=320\n",
    "#seg_img=seg_image(img,xDim,yDim);\n",
    "#println(typeof(seg_img)); #The type of return img should be fixed\n",
    "#println(size(seg_img,1));\n",
    "#println(size(seg_img,2));"
   ]
  },
  {
   "cell_type": "code",
   "execution_count": null,
   "metadata": {},
   "outputs": [],
   "source": [
    "#trn_labelpath= \"Data/Training/labels.txt\"\n",
    "#tst1_labelpath= \"Data/Testing/test_seq_1.txt\"\n",
    "#tst2_labelpath= \"Data/Testing/test_seq_2.txt\"\n",
    "\n",
    "#trn_labels= read_labels(trn_labelpath) # (48, )\n",
    "#tst1_labels= read_labels(tst1_labelpath) # (48, )\n",
    "#tst2_labels= read_labels(tst2_labelpath) # (48, )\n",
    "\n",
    "#println(map(summary,(trn_labels, tst1_labels, tst2_labels)))"
   ]
  },
  {
   "cell_type": "code",
   "execution_count": null,
   "metadata": {},
   "outputs": [],
   "source": [
    "#rootpath=\"imgDraft\" # should change based on path on Machine you work on\n",
    "#arr1 = [\"1\",\"2\"]\n",
    "#arr2 = [\"123\",\"321\"]\n",
    "#images= read_img(rootpath,arr1,arr2);\n",
    "#for x in images\n",
    "  #  println(size(x))\n",
    "  #  println(typeof(x))\n",
    "#end\n",
    "#println(length(images))"
   ]
  },
  {
   "cell_type": "code",
   "execution_count": null,
   "metadata": {},
   "outputs": [],
   "source": [
    "#Minibatch all dataset & save it in ready_data folder\n",
    "#link for saving\n",
    "# https://github.com/JuliaIO/JLD.jl"
   ]
  }
 ],
 "metadata": {
  "kernelspec": {
   "display_name": "Julia 0.6.2",
   "language": "julia",
   "name": "julia-0.6"
  },
  "language_info": {
   "file_extension": ".jl",
   "mimetype": "application/julia",
   "name": "julia",
   "version": "0.6.2"
  }
 },
 "nbformat": 4,
 "nbformat_minor": 2
}
