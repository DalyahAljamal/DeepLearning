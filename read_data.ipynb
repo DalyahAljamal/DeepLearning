{
 "cells": [
  {
   "cell_type": "markdown",
   "metadata": {},
   "source": [
    "## Reading Training & Testing Data\n",
    "#This script reads, pre-process the data and minibatch the data"
   ]
  },
  {
   "cell_type": "code",
   "execution_count": 36,
   "metadata": {},
   "outputs": [],
   "source": [
    "using Knet, Plots, JLD, NBInclude;\n",
    "using MultivariateStats;\n",
    "setseed(123)\n",
    "nbinclude(\"data_preprocessing.ipynb\");"
   ]
  },
  {
   "cell_type": "code",
   "execution_count": 37,
   "metadata": {},
   "outputs": [],
   "source": [
    "Atype = gpu() >= 0 ? KnetArray{Float32} : Array{Float32};\n",
    "gpu();"
   ]
  },
  {
   "cell_type": "code",
   "execution_count": 38,
   "metadata": {},
   "outputs": [
    {
     "name": "stderr",
     "output_type": "stream",
     "text": [
      "\u001b[1m\u001b[36mINFO: \u001b[39m\u001b[22m\u001b[36mPackage Plotly is not installed\n",
      "\u001b[39m"
     ]
    }
   ],
   "source": [
    "Pkg.rm(\"Plotly\")"
   ]
  },
  {
   "cell_type": "code",
   "execution_count": 39,
   "metadata": {},
   "outputs": [
    {
     "name": "stderr",
     "output_type": "stream",
     "text": [
      "\u001b[1m\u001b[33mWARNING: \u001b[39m\u001b[22m\u001b[33mspecial characters \"#{}()[]<>|&*?~;\" should now be quoted in commands\u001b[39m\n",
      "Stacktrace:\n",
      " [1] \u001b[1mdepwarn\u001b[22m\u001b[22m\u001b[1m(\u001b[22m\u001b[22m::String, ::Symbol\u001b[1m)\u001b[22m\u001b[22m at \u001b[1m./deprecated.jl:70\u001b[22m\u001b[22m\n",
      " [2] \u001b[1mwarn_shell_special\u001b[22m\u001b[22m\u001b[1m(\u001b[22m\u001b[22m::String\u001b[1m)\u001b[22m\u001b[22m at \u001b[1m./shell.jl:8\u001b[22m\u001b[22m\n",
      " [3] \u001b[1m#shell_parse#236\u001b[22m\u001b[22m\u001b[1m(\u001b[22m\u001b[22m::String, ::Function, ::String, ::Bool\u001b[1m)\u001b[22m\u001b[22m at \u001b[1m./shell.jl:103\u001b[22m\u001b[22m\n",
      " [4] \u001b[1m(::Base.#kw##shell_parse)\u001b[22m\u001b[22m\u001b[1m(\u001b[22m\u001b[22m::Array{Any,1}, ::Base.#shell_parse, ::String, ::Bool\u001b[1m)\u001b[22m\u001b[22m at \u001b[1m./<missing>:0\u001b[22m\u001b[22m (repeats 2 times)\n",
      " [5] \u001b[1m@cmd\u001b[22m\u001b[22m\u001b[1m(\u001b[22m\u001b[22m::ANY\u001b[1m)\u001b[22m\u001b[22m at \u001b[1m./process.jl:796\u001b[22m\u001b[22m\n",
      " [6] \u001b[1minclude_string\u001b[22m\u001b[22m\u001b[1m(\u001b[22m\u001b[22m::String, ::String\u001b[1m)\u001b[22m\u001b[22m at \u001b[1m./loading.jl:522\u001b[22m\u001b[22m\n",
      " [7] \u001b[1minclude_string\u001b[22m\u001b[22m\u001b[1m(\u001b[22m\u001b[22m::Module, ::String, ::String\u001b[1m)\u001b[22m\u001b[22m at \u001b[1m/home/ec2-user/.julia/v0.6/Compat/src/Compat.jl:71\u001b[22m\u001b[22m\n",
      " [8] \u001b[1mexecute_request\u001b[22m\u001b[22m\u001b[1m(\u001b[22m\u001b[22m::ZMQ.Socket, ::IJulia.Msg\u001b[1m)\u001b[22m\u001b[22m at \u001b[1m/home/ec2-user/.julia/v0.6/IJulia/src/execute_request.jl:158\u001b[22m\u001b[22m\n",
      " [9] \u001b[1m(::Compat.#inner#17{Array{Any,1},IJulia.#execute_request,Tuple{ZMQ.Socket,IJulia.Msg}})\u001b[22m\u001b[22m\u001b[1m(\u001b[22m\u001b[22m\u001b[1m)\u001b[22m\u001b[22m at \u001b[1m/home/ec2-user/.julia/v0.6/Compat/src/Compat.jl:385\u001b[22m\u001b[22m\n",
      " [10] \u001b[1meventloop\u001b[22m\u001b[22m\u001b[1m(\u001b[22m\u001b[22m::ZMQ.Socket\u001b[1m)\u001b[22m\u001b[22m at \u001b[1m/home/ec2-user/.julia/v0.6/IJulia/src/eventloop.jl:8\u001b[22m\u001b[22m\n",
      " [11] \u001b[1m(::IJulia.##14#17)\u001b[22m\u001b[22m\u001b[1m(\u001b[22m\u001b[22m\u001b[1m)\u001b[22m\u001b[22m at \u001b[1m./task.jl:335\u001b[22m\u001b[22m\n",
      "while loading In[39], in expression starting on line 7\n"
     ]
    },
    {
     "data": {
      "text/plain": [
       "`if 'gpu()' '>=0' '#Linux' trn_rootpath=Data/Training/Depth else 'trn_rootpath=Data\\Training\\Depth;' end arr1 = '[-112-5,112-5,135,-157-5,157-5,-180,-22-5,22-5,-45,45,-67-5,67-5,-90,90,new]' arr2 = '[201403121135,201403121140,201405151126,201406030937,201406031456,201406031503,201406031747,' '201406041509,201406181554,201406181600,201406191014,201406191044]' if 'gpu()' '>=0' '#Linux' trn_labelpath=Data/Training/labels.txt else 'trn_labelpath=Data\\Training\\labels.txt' end '#Read' Training Data if 'gpu()' '>=0' '#Linux' 'jld_filename_x=ready_data/xtrn_p1.jld;' 'jld_filename_y=ready_data/ytrn_p1.jld;' else 'jld_filename_x=ready_data\\xtrn_p1.jld;' 'jld_filename_y=ready_data\\ytrn_p1.jld;' end xtrn, ytrn= 'read_img_label_v5(trn_rootpath,' arr1,arr2,jld_filename_x,jld_filename_y, 'trn_labelpath,Atype);' 'n_samples=size(xtrn,4)' ind = 'randperm(n_samples)' 'xtrn=xtrn[:,:,:,ind[1:n_samples]]' 'ytrn=ytrn[:,ind[1:n_samples]]' 'BS=128;' dtrn = 'dataset_minibatching(BS,' xtrn, ytrn, 'Atype);' '#Read' Testing Data Seq 1 if 'gpu()' '>=0' '#Linux' 'tst1_jld_filename=ready_data/xtst1_v4_tst.jld;' else 'tst1_jld_filename=ready_data\\xtst1_v4_tst.jld;' end xtst1, ytst1= 'read_tst_img_label_v4(tst_rootpath,' tst_arr1_1, 'tst1_jld_filename,tst_labelpath1,Atype);' '#Read' Testing Data Seq 2 if 'gpu()' '>=0' '#Linux' 'tst2_jld_filename=ready_data/xtst2_v4_tst.jld;' else 'tst2_jld_filename=ready_data\\xtst2_v4_tst.jld;' end xtst2, ytst2= 'read_tst_img_label_v4(tst_rootpath,' tst_arr1_2, 'tst2_jld_filename,tst_labelpath2,Atype);' dtst_1= 'dataset_minibatching(BS,' xtst1, ytst1, 'Atype);' dtst_2= 'dataset_minibatching(BS,' xtst2, ytst2, 'Atype);'`"
      ]
     },
     "execution_count": 39,
     "metadata": {},
     "output_type": "execute_result"
    }
   ],
   "source": [
    "## If the data is not saved in JLD , execute this code\n",
    "\n",
    "# 5 *1800 Samples for the training, 50 is minibatch size \n",
    "#trn Dic\n",
    "#Check if working on Linux or windows\n",
    "\n",
    "```\n",
    "if gpu() >=0 #Linux\n",
    "    trn_rootpath=\"Data/Training/Depth\" \n",
    "else\n",
    "    trn_rootpath=\"Data\\\\Training\\\\Depth\";\n",
    "end\n",
    "arr1 = [\"-112-5\",\"112-5\",\"135\",\"-157-5\",\"157-5\",\"-180\",\"-22-5\",\"22-5\",\"-45\",\"45\",\"-67-5\",\"67-5\",\"-90\",\"90\",\"new\"]\n",
    "arr2 = [\"201403121135\",\"201403121140\",\"201405151126\",\"201406030937\",\"201406031456\",\"201406031503\",\"201406031747\",\n",
    "\"201406041509\",\"201406181554\",\"201406181600\",\"201406191014\",\"201406191044\"]\n",
    "if gpu() >=0 #Linux\n",
    "    trn_labelpath=\"Data/Training/labels.txt\"\n",
    "else\n",
    "    trn_labelpath=\"Data\\\\Training\\\\labels.txt\"\n",
    "end\n",
    "\n",
    "\n",
    "#Read Training Data\n",
    "if gpu() >=0 #Linux\n",
    "    jld_filename_x=\"ready_data/xtrn_p1.jld\";\n",
    "    jld_filename_y=\"ready_data/ytrn_p1.jld\";\n",
    "else\n",
    "    jld_filename_x=\"ready_data\\\\xtrn_p1.jld\";\n",
    "    jld_filename_y=\"ready_data\\\\ytrn_p1.jld\";\n",
    "end\n",
    "xtrn, ytrn= read_img_label_v5(trn_rootpath, arr1,arr2,jld_filename_x,jld_filename_y, trn_labelpath,Atype);\n",
    "\n",
    "n_samples=size(xtrn,4)\n",
    "ind = randperm(n_samples)\n",
    "xtrn=xtrn[:,:,:,ind[1:n_samples]]\n",
    "ytrn=ytrn[:,ind[1:n_samples]]\n",
    "\n",
    "\n",
    "BS=128;\n",
    "dtrn = dataset_minibatching(BS, xtrn, ytrn, Atype);\n",
    "\n",
    "\n",
    "#Read Testing Data Seq 1\n",
    "if gpu() >=0 #Linux\n",
    "    tst1_jld_filename=\"ready_data/xtst1_v4_tst.jld\";\n",
    "else\n",
    "    tst1_jld_filename=\"ready_data\\\\xtst1_v4_tst.jld\";\n",
    "end\n",
    "xtst1, ytst1= read_tst_img_label_v4(tst_rootpath, tst_arr1_1, tst1_jld_filename,tst_labelpath1,Atype);\n",
    "#Read Testing Data Seq 2\n",
    "if gpu() >=0 #Linux\n",
    "    tst2_jld_filename=\"ready_data/xtst2_v4_tst.jld\";\n",
    "else\n",
    "    tst2_jld_filename=\"ready_data\\\\xtst2_v4_tst.jld\";\n",
    "end\n",
    "\n",
    "xtst2, ytst2= read_tst_img_label_v4(tst_rootpath, tst_arr1_2, tst2_jld_filename,tst_labelpath2,Atype);\n",
    "\n",
    "dtst_1= dataset_minibatching(BS, xtst1, ytst1, Atype);\n",
    "dtst_2= dataset_minibatching(BS, xtst2, ytst2, Atype);```\n"
   ]
  },
  {
   "cell_type": "code",
   "execution_count": 40,
   "metadata": {},
   "outputs": [
    {
     "name": "stderr",
     "output_type": "stream",
     "text": [
      "\u001b[1m\u001b[33mWARNING: \u001b[39m\u001b[22m\u001b[33mspecial characters \"#{}()[]<>|&*?~;\" should now be quoted in commands\u001b[39m\n",
      "Stacktrace:\n",
      " [1] \u001b[1mdepwarn\u001b[22m\u001b[22m\u001b[1m(\u001b[22m\u001b[22m::String, ::Symbol\u001b[1m)\u001b[22m\u001b[22m at \u001b[1m./deprecated.jl:70\u001b[22m\u001b[22m\n",
      " [2] \u001b[1mwarn_shell_special\u001b[22m\u001b[22m\u001b[1m(\u001b[22m\u001b[22m::String\u001b[1m)\u001b[22m\u001b[22m at \u001b[1m./shell.jl:8\u001b[22m\u001b[22m\n",
      " [3] \u001b[1m#shell_parse#236\u001b[22m\u001b[22m\u001b[1m(\u001b[22m\u001b[22m::String, ::Function, ::String, ::Bool\u001b[1m)\u001b[22m\u001b[22m at \u001b[1m./shell.jl:103\u001b[22m\u001b[22m\n",
      " [4] \u001b[1m(::Base.#kw##shell_parse)\u001b[22m\u001b[22m\u001b[1m(\u001b[22m\u001b[22m::Array{Any,1}, ::Base.#shell_parse, ::String, ::Bool\u001b[1m)\u001b[22m\u001b[22m at \u001b[1m./<missing>:0\u001b[22m\u001b[22m (repeats 2 times)\n",
      " [5] \u001b[1m@cmd\u001b[22m\u001b[22m\u001b[1m(\u001b[22m\u001b[22m::ANY\u001b[1m)\u001b[22m\u001b[22m at \u001b[1m./process.jl:796\u001b[22m\u001b[22m\n",
      " [6] \u001b[1minclude_string\u001b[22m\u001b[22m\u001b[1m(\u001b[22m\u001b[22m::String, ::String\u001b[1m)\u001b[22m\u001b[22m at \u001b[1m./loading.jl:522\u001b[22m\u001b[22m\n",
      " [7] \u001b[1minclude_string\u001b[22m\u001b[22m\u001b[1m(\u001b[22m\u001b[22m::Module, ::String, ::String\u001b[1m)\u001b[22m\u001b[22m at \u001b[1m/home/ec2-user/.julia/v0.6/Compat/src/Compat.jl:71\u001b[22m\u001b[22m\n",
      " [8] \u001b[1mexecute_request\u001b[22m\u001b[22m\u001b[1m(\u001b[22m\u001b[22m::ZMQ.Socket, ::IJulia.Msg\u001b[1m)\u001b[22m\u001b[22m at \u001b[1m/home/ec2-user/.julia/v0.6/IJulia/src/execute_request.jl:158\u001b[22m\u001b[22m\n",
      " [9] \u001b[1m(::Compat.#inner#17{Array{Any,1},IJulia.#execute_request,Tuple{ZMQ.Socket,IJulia.Msg}})\u001b[22m\u001b[22m\u001b[1m(\u001b[22m\u001b[22m\u001b[1m)\u001b[22m\u001b[22m at \u001b[1m/home/ec2-user/.julia/v0.6/Compat/src/Compat.jl:385\u001b[22m\u001b[22m\n",
      " [10] \u001b[1meventloop\u001b[22m\u001b[22m\u001b[1m(\u001b[22m\u001b[22m::ZMQ.Socket\u001b[1m)\u001b[22m\u001b[22m at \u001b[1m/home/ec2-user/.julia/v0.6/IJulia/src/eventloop.jl:8\u001b[22m\u001b[22m\n",
      " [11] \u001b[1m(::IJulia.##14#17)\u001b[22m\u001b[22m\u001b[1m(\u001b[22m\u001b[22m\u001b[1m)\u001b[22m\u001b[22m at \u001b[1m./task.jl:335\u001b[22m\u001b[22m\n",
      "while loading In[40], in expression starting on line 1\n"
     ]
    },
    {
     "data": {
      "text/plain": [
       "`'save(ready_data/dtst_1.jld,' dtst_1, 'dtst_1);' 'save(ready_data/dtst_2.jld,' dtst_2, 'dtst_2);'`"
      ]
     },
     "execution_count": 40,
     "metadata": {},
     "output_type": "execute_result"
    }
   ],
   "source": [
    "```save(\"ready_data/dtst_1.jld\", \"dtst_1\", dtst_1);\n",
    "save(\"ready_data/dtst_2.jld\", \"dtst_2\", dtst_2);```"
   ]
  },
  {
   "cell_type": "code",
   "execution_count": 41,
   "metadata": {},
   "outputs": [
    {
     "name": "stdout",
     "output_type": "stream",
     "text": [
      "(\"128×128×1×9001 Array{Float32,4}\", \"48×9000 Array{Float32,2}\")\n"
     ]
    }
   ],
   "source": [
    "#Loading and reshaping read data\n",
    "xtrn_p1= load(\"ready_data/xtrn_p1.jld\")\n",
    "ytrn_p1= load(\"ready_data/ytrn_p1.jld\")\n",
    "\n",
    "\n",
    "xtrn_v= values(xtrn_p1)\n",
    "ytrn_v= values(ytrn_p1)\n",
    "xtrn=Any[]\n",
    "\n",
    "for i in xtrn_v\n",
    "    push!(xtrn,i);\n",
    "end\n",
    "\n",
    "ytrn= Any[]\n",
    "for i in ytrn_v\n",
    "    if length(ytrn)==0\n",
    "        ytrn=i;\n",
    "    else\n",
    "        \n",
    "        ytrn=hcat(ytrn,i);\n",
    "    end\n",
    "end\n",
    "\n",
    "xtrn= cat(4,xtrn...)\n",
    "println(map(summary,(xtrn,ytrn)))"
   ]
  },
  {
   "cell_type": "code",
   "execution_count": 42,
   "metadata": {},
   "outputs": [
    {
     "data": {
      "text/plain": [
       "128×128×1×1 Array{Float32,4}:\n",
       "[:, :, 1, 1] =\n",
       " 1.0  1.0  1.0  1.0  1.0  1.0  1.0  1.0  …  1.0  1.0  1.0  1.0  1.0  1.0  1.0\n",
       " 1.0  1.0  1.0  1.0  1.0  1.0  1.0  1.0     1.0  1.0  1.0  1.0  1.0  1.0  1.0\n",
       " 1.0  1.0  1.0  1.0  1.0  1.0  1.0  1.0     1.0  1.0  1.0  1.0  1.0  1.0  1.0\n",
       " 1.0  1.0  1.0  1.0  1.0  1.0  1.0  1.0     1.0  1.0  1.0  1.0  1.0  1.0  1.0\n",
       " 1.0  1.0  1.0  1.0  1.0  1.0  1.0  1.0     1.0  1.0  1.0  1.0  1.0  1.0  1.0\n",
       " 1.0  1.0  1.0  1.0  1.0  1.0  1.0  1.0  …  1.0  1.0  1.0  1.0  1.0  1.0  1.0\n",
       " 1.0  1.0  1.0  1.0  1.0  1.0  1.0  1.0     1.0  1.0  1.0  1.0  1.0  1.0  1.0\n",
       " 1.0  1.0  1.0  1.0  1.0  1.0  1.0  1.0     1.0  1.0  1.0  1.0  1.0  1.0  1.0\n",
       " 1.0  1.0  1.0  1.0  1.0  1.0  1.0  1.0     1.0  1.0  1.0  1.0  1.0  1.0  1.0\n",
       " 1.0  1.0  1.0  1.0  1.0  1.0  1.0  1.0     1.0  1.0  1.0  1.0  1.0  1.0  1.0\n",
       " 1.0  1.0  1.0  1.0  1.0  1.0  1.0  1.0  …  1.0  1.0  1.0  1.0  1.0  1.0  1.0\n",
       " 1.0  1.0  1.0  1.0  1.0  1.0  1.0  1.0     1.0  1.0  1.0  1.0  1.0  1.0  1.0\n",
       " 1.0  1.0  1.0  1.0  1.0  1.0  1.0  1.0     1.0  1.0  1.0  1.0  1.0  1.0  1.0\n",
       " ⋮                        ⋮              ⋱                      ⋮            \n",
       " 1.0  1.0  1.0  1.0  1.0  1.0  1.0  1.0     1.0  1.0  1.0  1.0  1.0  1.0  1.0\n",
       " 1.0  1.0  1.0  1.0  1.0  1.0  1.0  1.0     1.0  1.0  1.0  1.0  1.0  1.0  1.0\n",
       " 1.0  1.0  1.0  1.0  1.0  1.0  1.0  1.0     1.0  1.0  1.0  1.0  1.0  1.0  1.0\n",
       " 1.0  1.0  1.0  1.0  1.0  1.0  1.0  1.0     1.0  1.0  1.0  1.0  1.0  1.0  1.0\n",
       " 1.0  1.0  1.0  1.0  1.0  1.0  1.0  1.0  …  1.0  1.0  1.0  1.0  1.0  1.0  1.0\n",
       " 1.0  1.0  1.0  1.0  1.0  1.0  1.0  1.0     1.0  1.0  1.0  1.0  1.0  1.0  1.0\n",
       " 1.0  1.0  1.0  1.0  1.0  1.0  1.0  1.0     1.0  1.0  1.0  1.0  1.0  1.0  1.0\n",
       " 1.0  1.0  1.0  1.0  1.0  1.0  1.0  1.0     1.0  1.0  1.0  1.0  1.0  1.0  1.0\n",
       " 1.0  1.0  1.0  1.0  1.0  1.0  1.0  1.0     1.0  1.0  1.0  1.0  1.0  1.0  1.0\n",
       " 1.0  1.0  1.0  1.0  1.0  1.0  1.0  1.0  …  1.0  1.0  1.0  1.0  1.0  1.0  1.0\n",
       " 1.0  1.0  1.0  1.0  1.0  1.0  1.0  1.0     1.0  1.0  1.0  1.0  1.0  1.0  1.0\n",
       " 1.0  1.0  1.0  1.0  1.0  1.0  1.0  1.0     1.0  1.0  1.0  1.0  1.0  1.0  1.0"
      ]
     },
     "execution_count": 42,
     "metadata": {},
     "output_type": "execute_result"
    }
   ],
   "source": [
    "xtrn_p1[\"img9001\"]"
   ]
  },
  {
   "cell_type": "code",
   "execution_count": 43,
   "metadata": {},
   "outputs": [
    {
     "data": {
      "text/plain": [
       "\"128×128×1×9000 Array{Float32,4}\""
      ]
     },
     "execution_count": 43,
     "metadata": {},
     "output_type": "execute_result"
    }
   ],
   "source": [
    "xtrn=xtrn[:,:,:,1:9000]\n",
    "summary(xtrn)"
   ]
  },
  {
   "cell_type": "code",
   "execution_count": 44,
   "metadata": {},
   "outputs": [
    {
     "data": {
      "text/plain": [
       "128×128×1 Array{Float32,3}:\n",
       "[:, :, 1] =\n",
       " 1.0       1.0       1.0       …  1.0  1.0  1.0  1.0  1.0  1.0  1.0\n",
       " 1.0       1.0       1.0          1.0  1.0  1.0  1.0  1.0  1.0  1.0\n",
       " 1.0       1.0       1.0          1.0  1.0  1.0  1.0  1.0  1.0  1.0\n",
       " 1.0       1.0       1.0          1.0  1.0  1.0  1.0  1.0  1.0  1.0\n",
       " 1.0       1.0       1.0          1.0  1.0  1.0  1.0  1.0  1.0  1.0\n",
       " 1.0       1.0       1.0       …  1.0  1.0  1.0  1.0  1.0  1.0  1.0\n",
       " 1.0       1.0       1.0          1.0  1.0  1.0  1.0  1.0  1.0  1.0\n",
       " 1.0       1.0       1.0          1.0  1.0  1.0  1.0  1.0  1.0  1.0\n",
       " 1.0       1.0       1.0          1.0  1.0  1.0  1.0  1.0  1.0  1.0\n",
       " 1.0       1.0       1.0          1.0  1.0  1.0  1.0  1.0  1.0  1.0\n",
       " 1.0       1.0       1.0       …  1.0  1.0  1.0  1.0  1.0  1.0  1.0\n",
       " 1.0       1.0       1.0          1.0  1.0  1.0  1.0  1.0  1.0  1.0\n",
       " 1.0       1.0       1.0          1.0  1.0  1.0  1.0  1.0  1.0  1.0\n",
       " ⋮                             ⋱                      ⋮            \n",
       " 0.999879  0.939204  0.815567     1.0  1.0  1.0  1.0  1.0  1.0  1.0\n",
       " 0.99992   0.959461  0.875902     1.0  1.0  1.0  1.0  1.0  1.0  1.0\n",
       " 0.999984  0.992075  0.973052     1.0  1.0  1.0  1.0  1.0  1.0  1.0\n",
       " 0.999996  0.997966  0.992211     1.0  1.0  1.0  1.0  1.0  1.0  1.0\n",
       " 1.0       0.999996  0.999774  …  1.0  1.0  1.0  1.0  1.0  1.0  1.0\n",
       " 1.0       0.999999  0.99992      1.0  1.0  1.0  1.0  1.0  1.0  1.0\n",
       " 1.0       1.0       0.999998     1.0  1.0  1.0  1.0  1.0  1.0  1.0\n",
       " 1.0       1.0       1.0          1.0  1.0  1.0  1.0  1.0  1.0  1.0\n",
       " 1.0       1.0       1.0          1.0  1.0  1.0  1.0  1.0  1.0  1.0\n",
       " 1.0       1.0       1.0       …  1.0  1.0  1.0  1.0  1.0  1.0  1.0\n",
       " 1.0       1.0       1.0          1.0  1.0  1.0  1.0  1.0  1.0  1.0\n",
       " 1.0       1.0       1.0          1.0  1.0  1.0  1.0  1.0  1.0  1.0"
      ]
     },
     "execution_count": 44,
     "metadata": {},
     "output_type": "execute_result"
    }
   ],
   "source": [
    "xtrn[:,:,:,1]"
   ]
  },
  {
   "cell_type": "code",
   "execution_count": 45,
   "metadata": {},
   "outputs": [
    {
     "data": {
      "text/plain": [
       "48-element Array{Float32,1}:\n",
       " 0.64   \n",
       " 0.48   \n",
       " 1.48768\n",
       " 0.69056\n",
       " 0.49368\n",
       " 1.40712\n",
       " 0.66216\n",
       " 0.56368\n",
       " 1.36824\n",
       " 0.61456\n",
       " 0.57768\n",
       " 1.30504\n",
       " 0.59692\n",
       " ⋮      \n",
       " 0.6012 \n",
       " 0.51988\n",
       " 1.3392 \n",
       " 0.55148\n",
       " 0.47988\n",
       " 1.415  \n",
       " 0.56424\n",
       " 0.48856\n",
       " 1.35732\n",
       " 0.60052\n",
       " 0.4618 \n",
       " 1.35876"
      ]
     },
     "execution_count": 45,
     "metadata": {},
     "output_type": "execute_result"
    }
   ],
   "source": [
    "ytrn=  ytrn/250\n",
    "ytrn[:,5]"
   ]
  },
  {
   "cell_type": "code",
   "execution_count": 47,
   "metadata": {},
   "outputs": [
    {
     "name": "stdout",
     "output_type": "stream",
     "text": [
      "Array{Float32,4}\n",
      "Array{Float32,4}\n",
      "Array{Float32,4}\n",
      "Array{Float32,4}\n",
      "Array{Float32,4}\n",
      "Array{Float32,4}\n",
      "Array{Float32,4}\n",
      "Array{Float32,4}\n",
      "Array{Float32,4}\n",
      "Array{Float32,4}\n",
      "Array{Float32,4}\n",
      "Array{Float32,4}\n",
      "Array{Float32,4}\n",
      "Array{Float32,4}\n",
      "Array{Float32,4}\n",
      "Array{Float32,4}\n",
      "Array{Float32,4}\n",
      "Array{Float32,4}\n",
      "Array{Float32,4}\n",
      "Array{Float32,4}\n",
      "Array{Float32,4}\n",
      "Array{Float32,4}\n",
      "Array{Float32,4}\n",
      "Array{Float32,4}\n",
      "Array{Float32,4}\n",
      "Array{Float32,4}\n",
      "Array{Float32,4}\n",
      "Array{Float32,4}\n",
      "Array{Float32,4}\n",
      "Array{Float32,4}\n",
      "Array{Float32,4}\n",
      "Array{Float32,4}\n",
      "Array{Float32,4}\n",
      "Array{Float32,4}\n",
      "Array{Float32,4}\n",
      "Array{Float32,4}\n",
      "Array{Float32,4}\n",
      "Array{Float32,4}\n",
      "Array{Float32,4}\n",
      "Array{Float32,4}\n",
      "Array{Float32,4}\n",
      "Array{Float32,4}\n",
      "Array{Float32,4}\n",
      "Array{Float32,4}\n",
      "Array{Float32,4}\n",
      "Array{Float32,4}\n",
      "Array{Float32,4}\n",
      "Array{Float32,4}\n",
      "Array{Float32,4}\n",
      "Array{Float32,4}\n",
      "Array{Float32,4}\n",
      "Array{Float32,4}\n",
      "Array{Float32,4}\n",
      "Array{Float32,4}\n",
      "Array{Float32,4}\n",
      "Array{Float32,4}\n",
      "Array{Float32,4}\n",
      "Array{Float32,4}\n",
      "Array{Float32,4}\n",
      "Array{Float32,4}\n",
      "Array{Float32,4}\n",
      "Array{Float32,4}\n",
      "Array{Float32,4}\n",
      "Array{Float32,4}\n",
      "Array{Float32,4}\n",
      "Array{Float32,4}\n",
      "Array{Float32,4}\n",
      "Array{Float32,4}\n",
      "Array{Float32,4}\n",
      "Array{Float32,4}\n",
      "Array{Float32,4}\n",
      "Array{Float32,4}\n",
      "Array{Float32,4}\n",
      "Array{Float32,4}\n",
      "Array{Float32,4}\n",
      "Array{Float32,4}\n",
      "Array{Float32,4}\n",
      "Array{Float32,4}\n",
      "Array{Float32,4}\n",
      "Array{Float32,4}\n",
      "Array{Float32,4}\n",
      "Array{Float32,4}\n",
      "Array{Float32,4}\n",
      "Array{Float32,4}\n",
      "Array{Float32,4}\n",
      "Array{Float32,4}\n",
      "Array{Float32,4}\n",
      "Array{Float32,4}\n",
      "Array{Float32,4}\n",
      "Array{Float32,4}\n",
      "Array{Float32,4}\n",
      "Array{Float32,4}\n",
      "Array{Float32,4}\n",
      "Array{Float32,4}\n",
      "Array{Float32,4}\n",
      "Array{Float32,4}\n",
      "Array{Float32,4}\n",
      "Array{Float32,4}\n",
      "Array{Float32,4}\n",
      "Array{Float32,4}\n",
      "Array{Float32,4}\n",
      "Array{Float32,4}\n",
      "Array{Float32,4}\n",
      "Array{Float32,4}\n",
      "Array{Float32,4}\n",
      "Array{Float32,4}\n",
      "Array{Float32,4}\n",
      "Array{Float32,4}\n",
      "Array{Float32,4}\n",
      "Array{Float32,4}\n",
      "Array{Float32,4}\n",
      "Array{Float32,4}\n",
      "Array{Float32,4}\n",
      "Array{Float32,4}\n",
      "Array{Float32,4}\n",
      "Array{Float32,4}\n",
      "Array{Float32,4}\n",
      "Array{Float32,4}\n",
      "Array{Float32,4}\n",
      "Array{Float32,4}\n",
      "Array{Float32,4}\n",
      "Array{Float32,4}\n",
      "Array{Float32,4}\n",
      "Array{Float32,4}\n",
      "Array{Float32,4}\n",
      "Array{Float32,4}\n",
      "Array{Float32,4}\n",
      "Array{Float32,4}\n",
      "Array{Float32,4}\n",
      "Array{Float32,4}\n",
      "Array{Float32,4}\n",
      "Array{Float32,4}\n",
      "Array{Float32,4}\n",
      "Array{Float32,4}\n",
      "Array{Float32,4}\n",
      "Array{Float32,4}\n",
      "Array{Float32,4}\n",
      "Array{Float32,4}\n",
      "Array{Float32,4}\n",
      "Array{Float32,4}\n",
      "Array{Float32,4}\n"
     ]
    }
   ],
   "source": [
    "## MiniBatching\n",
    "\n",
    "n_samples=size(ytrn,2)\n",
    "BS=64;\n",
    "ind = randperm(n_samples)\n",
    "xtrn=xtrn[:,:,:,ind[1:n_samples]]\n",
    "ytrn=ytrn[:,ind[1:n_samples]]\n",
    "\n",
    "dtrn = dataset_minibatching(BS, xtrn, ytrn, Atype);"
   ]
  },
  {
   "cell_type": "code",
   "execution_count": 48,
   "metadata": {},
   "outputs": [],
   "source": [
    "#Saving minibatched Data Part1\n",
    "save(\"ready_data/dtrn_v5.jld\", \"dtrn_v5\", dtrn);"
   ]
  },
  {
   "cell_type": "code",
   "execution_count": 49,
   "metadata": {},
   "outputs": [
    {
     "name": "stdout",
     "output_type": "stream",
     "text": [
      "(\"128×128×1×128 Array{Float32,4}\", \"48×128 Array{Float32,2}\")\n"
     ]
    }
   ],
   "source": [
    "#Reading Test Data\n",
    "\n",
    "dtst_1= load(\"ready_data/dtst_1.jld\");\n",
    "dtst_2= load(\"ready_data/dtst_2.jld\");\n",
    "dtst_1=dtst_1[\"dtst_1\"];\n",
    "dtst_2=dtst_2[\"dtst_2\"];\n",
    "\n",
    "(x,y)=first(dtst_1)\n",
    "println(map(summary,(x,y)));\n"
   ]
  },
  {
   "cell_type": "code",
   "execution_count": null,
   "metadata": {},
   "outputs": [],
   "source": []
  },
  {
   "cell_type": "code",
   "execution_count": null,
   "metadata": {},
   "outputs": [],
   "source": []
  }
 ],
 "metadata": {
  "kernelspec": {
   "display_name": "Julia 0.6.2",
   "language": "julia",
   "name": "julia-0.6"
  },
  "language_info": {
   "file_extension": ".jl",
   "mimetype": "application/julia",
   "name": "julia",
   "version": "0.6.2"
  }
 },
 "nbformat": 4,
 "nbformat_minor": 2
}
